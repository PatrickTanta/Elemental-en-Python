{
 "cells": [
  {
   "cell_type": "markdown",
   "metadata": {},
   "source": [
    "<img src=\"https://sites.google.com/site/278sistemasdeecuaciones/_/rsrc/1468877094275/clasificacion-de-sistemas-de-ecuaciones-lineales/gr%C3%A1fica1%2C2y3.PNG\" style=\"width:600px; height:250px;\" >"
   ]
  },
  {
   "cell_type": "code",
   "execution_count": 18,
   "metadata": {},
   "outputs": [
    {
     "data": {
      "text/html": [
       "\n",
       "    <div class=\"bk-root\">\n",
       "        <a href=\"https://bokeh.org\" target=\"_blank\" class=\"bk-logo bk-logo-small bk-logo-notebook\"></a>\n",
       "        <span id=\"3568\">Loading BokehJS ...</span>\n",
       "    </div>"
      ]
     },
     "metadata": {},
     "output_type": "display_data"
    },
    {
     "data": {
      "application/javascript": [
       "\n",
       "(function(root) {\n",
       "  function now() {\n",
       "    return new Date();\n",
       "  }\n",
       "\n",
       "  var force = true;\n",
       "\n",
       "  if (typeof root._bokeh_onload_callbacks === \"undefined\" || force === true) {\n",
       "    root._bokeh_onload_callbacks = [];\n",
       "    root._bokeh_is_loading = undefined;\n",
       "  }\n",
       "\n",
       "  var JS_MIME_TYPE = 'application/javascript';\n",
       "  var HTML_MIME_TYPE = 'text/html';\n",
       "  var EXEC_MIME_TYPE = 'application/vnd.bokehjs_exec.v0+json';\n",
       "  var CLASS_NAME = 'output_bokeh rendered_html';\n",
       "\n",
       "  /**\n",
       "   * Render data to the DOM node\n",
       "   */\n",
       "  function render(props, node) {\n",
       "    var script = document.createElement(\"script\");\n",
       "    node.appendChild(script);\n",
       "  }\n",
       "\n",
       "  /**\n",
       "   * Handle when an output is cleared or removed\n",
       "   */\n",
       "  function handleClearOutput(event, handle) {\n",
       "    var cell = handle.cell;\n",
       "\n",
       "    var id = cell.output_area._bokeh_element_id;\n",
       "    var server_id = cell.output_area._bokeh_server_id;\n",
       "    // Clean up Bokeh references\n",
       "    if (id != null && id in Bokeh.index) {\n",
       "      Bokeh.index[id].model.document.clear();\n",
       "      delete Bokeh.index[id];\n",
       "    }\n",
       "\n",
       "    if (server_id !== undefined) {\n",
       "      // Clean up Bokeh references\n",
       "      var cmd = \"from bokeh.io.state import curstate; print(curstate().uuid_to_server['\" + server_id + \"'].get_sessions()[0].document.roots[0]._id)\";\n",
       "      cell.notebook.kernel.execute(cmd, {\n",
       "        iopub: {\n",
       "          output: function(msg) {\n",
       "            var id = msg.content.text.trim();\n",
       "            if (id in Bokeh.index) {\n",
       "              Bokeh.index[id].model.document.clear();\n",
       "              delete Bokeh.index[id];\n",
       "            }\n",
       "          }\n",
       "        }\n",
       "      });\n",
       "      // Destroy server and session\n",
       "      var cmd = \"import bokeh.io.notebook as ion; ion.destroy_server('\" + server_id + \"')\";\n",
       "      cell.notebook.kernel.execute(cmd);\n",
       "    }\n",
       "  }\n",
       "\n",
       "  /**\n",
       "   * Handle when a new output is added\n",
       "   */\n",
       "  function handleAddOutput(event, handle) {\n",
       "    var output_area = handle.output_area;\n",
       "    var output = handle.output;\n",
       "\n",
       "    // limit handleAddOutput to display_data with EXEC_MIME_TYPE content only\n",
       "    if ((output.output_type != \"display_data\") || (!output.data.hasOwnProperty(EXEC_MIME_TYPE))) {\n",
       "      return\n",
       "    }\n",
       "\n",
       "    var toinsert = output_area.element.find(\".\" + CLASS_NAME.split(' ')[0]);\n",
       "\n",
       "    if (output.metadata[EXEC_MIME_TYPE][\"id\"] !== undefined) {\n",
       "      toinsert[toinsert.length - 1].firstChild.textContent = output.data[JS_MIME_TYPE];\n",
       "      // store reference to embed id on output_area\n",
       "      output_area._bokeh_element_id = output.metadata[EXEC_MIME_TYPE][\"id\"];\n",
       "    }\n",
       "    if (output.metadata[EXEC_MIME_TYPE][\"server_id\"] !== undefined) {\n",
       "      var bk_div = document.createElement(\"div\");\n",
       "      bk_div.innerHTML = output.data[HTML_MIME_TYPE];\n",
       "      var script_attrs = bk_div.children[0].attributes;\n",
       "      for (var i = 0; i < script_attrs.length; i++) {\n",
       "        toinsert[toinsert.length - 1].firstChild.setAttribute(script_attrs[i].name, script_attrs[i].value);\n",
       "      }\n",
       "      // store reference to server id on output_area\n",
       "      output_area._bokeh_server_id = output.metadata[EXEC_MIME_TYPE][\"server_id\"];\n",
       "    }\n",
       "  }\n",
       "\n",
       "  function register_renderer(events, OutputArea) {\n",
       "\n",
       "    function append_mime(data, metadata, element) {\n",
       "      // create a DOM node to render to\n",
       "      var toinsert = this.create_output_subarea(\n",
       "        metadata,\n",
       "        CLASS_NAME,\n",
       "        EXEC_MIME_TYPE\n",
       "      );\n",
       "      this.keyboard_manager.register_events(toinsert);\n",
       "      // Render to node\n",
       "      var props = {data: data, metadata: metadata[EXEC_MIME_TYPE]};\n",
       "      render(props, toinsert[toinsert.length - 1]);\n",
       "      element.append(toinsert);\n",
       "      return toinsert\n",
       "    }\n",
       "\n",
       "    /* Handle when an output is cleared or removed */\n",
       "    events.on('clear_output.CodeCell', handleClearOutput);\n",
       "    events.on('delete.Cell', handleClearOutput);\n",
       "\n",
       "    /* Handle when a new output is added */\n",
       "    events.on('output_added.OutputArea', handleAddOutput);\n",
       "\n",
       "    /**\n",
       "     * Register the mime type and append_mime function with output_area\n",
       "     */\n",
       "    OutputArea.prototype.register_mime_type(EXEC_MIME_TYPE, append_mime, {\n",
       "      /* Is output safe? */\n",
       "      safe: true,\n",
       "      /* Index of renderer in `output_area.display_order` */\n",
       "      index: 0\n",
       "    });\n",
       "  }\n",
       "\n",
       "  // register the mime type if in Jupyter Notebook environment and previously unregistered\n",
       "  if (root.Jupyter !== undefined) {\n",
       "    var events = require('base/js/events');\n",
       "    var OutputArea = require('notebook/js/outputarea').OutputArea;\n",
       "\n",
       "    if (OutputArea.prototype.mime_types().indexOf(EXEC_MIME_TYPE) == -1) {\n",
       "      register_renderer(events, OutputArea);\n",
       "    }\n",
       "  }\n",
       "\n",
       "  \n",
       "  if (typeof (root._bokeh_timeout) === \"undefined\" || force === true) {\n",
       "    root._bokeh_timeout = Date.now() + 5000;\n",
       "    root._bokeh_failed_load = false;\n",
       "  }\n",
       "\n",
       "  var NB_LOAD_WARNING = {'data': {'text/html':\n",
       "     \"<div style='background-color: #fdd'>\\n\"+\n",
       "     \"<p>\\n\"+\n",
       "     \"BokehJS does not appear to have successfully loaded. If loading BokehJS from CDN, this \\n\"+\n",
       "     \"may be due to a slow or bad network connection. Possible fixes:\\n\"+\n",
       "     \"</p>\\n\"+\n",
       "     \"<ul>\\n\"+\n",
       "     \"<li>re-rerun `output_notebook()` to attempt to load from CDN again, or</li>\\n\"+\n",
       "     \"<li>use INLINE resources instead, as so:</li>\\n\"+\n",
       "     \"</ul>\\n\"+\n",
       "     \"<code>\\n\"+\n",
       "     \"from bokeh.resources import INLINE\\n\"+\n",
       "     \"output_notebook(resources=INLINE)\\n\"+\n",
       "     \"</code>\\n\"+\n",
       "     \"</div>\"}};\n",
       "\n",
       "  function display_loaded() {\n",
       "    var el = document.getElementById(\"3568\");\n",
       "    if (el != null) {\n",
       "      el.textContent = \"BokehJS is loading...\";\n",
       "    }\n",
       "    if (root.Bokeh !== undefined) {\n",
       "      if (el != null) {\n",
       "        el.textContent = \"BokehJS \" + root.Bokeh.version + \" successfully loaded.\";\n",
       "      }\n",
       "    } else if (Date.now() < root._bokeh_timeout) {\n",
       "      setTimeout(display_loaded, 100)\n",
       "    }\n",
       "  }\n",
       "\n",
       "\n",
       "  function run_callbacks() {\n",
       "    try {\n",
       "      root._bokeh_onload_callbacks.forEach(function(callback) {\n",
       "        if (callback != null)\n",
       "          callback();\n",
       "      });\n",
       "    } finally {\n",
       "      delete root._bokeh_onload_callbacks\n",
       "    }\n",
       "    console.debug(\"Bokeh: all callbacks have finished\");\n",
       "  }\n",
       "\n",
       "  function load_libs(css_urls, js_urls, callback) {\n",
       "    if (css_urls == null) css_urls = [];\n",
       "    if (js_urls == null) js_urls = [];\n",
       "\n",
       "    root._bokeh_onload_callbacks.push(callback);\n",
       "    if (root._bokeh_is_loading > 0) {\n",
       "      console.debug(\"Bokeh: BokehJS is being loaded, scheduling callback at\", now());\n",
       "      return null;\n",
       "    }\n",
       "    if (js_urls == null || js_urls.length === 0) {\n",
       "      run_callbacks();\n",
       "      return null;\n",
       "    }\n",
       "    console.debug(\"Bokeh: BokehJS not loaded, scheduling load and callback at\", now());\n",
       "    root._bokeh_is_loading = css_urls.length + js_urls.length;\n",
       "\n",
       "    function on_load() {\n",
       "      root._bokeh_is_loading--;\n",
       "      if (root._bokeh_is_loading === 0) {\n",
       "        console.debug(\"Bokeh: all BokehJS libraries/stylesheets loaded\");\n",
       "        run_callbacks()\n",
       "      }\n",
       "    }\n",
       "\n",
       "    function on_error() {\n",
       "      console.error(\"failed to load \" + url);\n",
       "    }\n",
       "\n",
       "    for (var i = 0; i < css_urls.length; i++) {\n",
       "      var url = css_urls[i];\n",
       "      const element = document.createElement(\"link\");\n",
       "      element.onload = on_load;\n",
       "      element.onerror = on_error;\n",
       "      element.rel = \"stylesheet\";\n",
       "      element.type = \"text/css\";\n",
       "      element.href = url;\n",
       "      console.debug(\"Bokeh: injecting link tag for BokehJS stylesheet: \", url);\n",
       "      document.body.appendChild(element);\n",
       "    }\n",
       "\n",
       "    for (var i = 0; i < js_urls.length; i++) {\n",
       "      var url = js_urls[i];\n",
       "      var element = document.createElement('script');\n",
       "      element.onload = on_load;\n",
       "      element.onerror = on_error;\n",
       "      element.async = false;\n",
       "      element.src = url;\n",
       "      console.debug(\"Bokeh: injecting script tag for BokehJS library: \", url);\n",
       "      document.head.appendChild(element);\n",
       "    }\n",
       "  };var element = document.getElementById(\"3568\");\n",
       "  if (element == null) {\n",
       "    console.error(\"Bokeh: ERROR: autoload.js configured with elementid '3568' but no matching script tag was found. \")\n",
       "    return false;\n",
       "  }\n",
       "\n",
       "  function inject_raw_css(css) {\n",
       "    const element = document.createElement(\"style\");\n",
       "    element.appendChild(document.createTextNode(css));\n",
       "    document.body.appendChild(element);\n",
       "  }\n",
       "\n",
       "  \n",
       "  var js_urls = [\"https://cdn.pydata.org/bokeh/release/bokeh-1.4.0.min.js\", \"https://cdn.pydata.org/bokeh/release/bokeh-widgets-1.4.0.min.js\", \"https://cdn.pydata.org/bokeh/release/bokeh-tables-1.4.0.min.js\", \"https://cdn.pydata.org/bokeh/release/bokeh-gl-1.4.0.min.js\"];\n",
       "  var css_urls = [];\n",
       "  \n",
       "\n",
       "  var inline_js = [\n",
       "    function(Bokeh) {\n",
       "      Bokeh.set_log_level(\"info\");\n",
       "    },\n",
       "    function(Bokeh) {\n",
       "    \n",
       "    \n",
       "    }\n",
       "  ];\n",
       "\n",
       "  function run_inline_js() {\n",
       "    \n",
       "    if (root.Bokeh !== undefined || force === true) {\n",
       "      \n",
       "    for (var i = 0; i < inline_js.length; i++) {\n",
       "      inline_js[i].call(root, root.Bokeh);\n",
       "    }\n",
       "    if (force === true) {\n",
       "        display_loaded();\n",
       "      }} else if (Date.now() < root._bokeh_timeout) {\n",
       "      setTimeout(run_inline_js, 100);\n",
       "    } else if (!root._bokeh_failed_load) {\n",
       "      console.log(\"Bokeh: BokehJS failed to load within specified timeout.\");\n",
       "      root._bokeh_failed_load = true;\n",
       "    } else if (force !== true) {\n",
       "      var cell = $(document.getElementById(\"3568\")).parents('.cell').data().cell;\n",
       "      cell.output_area.append_execute_result(NB_LOAD_WARNING)\n",
       "    }\n",
       "\n",
       "  }\n",
       "\n",
       "  if (root._bokeh_is_loading === 0) {\n",
       "    console.debug(\"Bokeh: BokehJS loaded, going straight to plotting\");\n",
       "    run_inline_js();\n",
       "  } else {\n",
       "    load_libs(css_urls, js_urls, function() {\n",
       "      console.debug(\"Bokeh: BokehJS plotting callback run at\", now());\n",
       "      run_inline_js();\n",
       "    });\n",
       "  }\n",
       "}(window));"
      ],
      "application/vnd.bokehjs_load.v0+json": "\n(function(root) {\n  function now() {\n    return new Date();\n  }\n\n  var force = true;\n\n  if (typeof root._bokeh_onload_callbacks === \"undefined\" || force === true) {\n    root._bokeh_onload_callbacks = [];\n    root._bokeh_is_loading = undefined;\n  }\n\n  \n\n  \n  if (typeof (root._bokeh_timeout) === \"undefined\" || force === true) {\n    root._bokeh_timeout = Date.now() + 5000;\n    root._bokeh_failed_load = false;\n  }\n\n  var NB_LOAD_WARNING = {'data': {'text/html':\n     \"<div style='background-color: #fdd'>\\n\"+\n     \"<p>\\n\"+\n     \"BokehJS does not appear to have successfully loaded. If loading BokehJS from CDN, this \\n\"+\n     \"may be due to a slow or bad network connection. Possible fixes:\\n\"+\n     \"</p>\\n\"+\n     \"<ul>\\n\"+\n     \"<li>re-rerun `output_notebook()` to attempt to load from CDN again, or</li>\\n\"+\n     \"<li>use INLINE resources instead, as so:</li>\\n\"+\n     \"</ul>\\n\"+\n     \"<code>\\n\"+\n     \"from bokeh.resources import INLINE\\n\"+\n     \"output_notebook(resources=INLINE)\\n\"+\n     \"</code>\\n\"+\n     \"</div>\"}};\n\n  function display_loaded() {\n    var el = document.getElementById(\"3568\");\n    if (el != null) {\n      el.textContent = \"BokehJS is loading...\";\n    }\n    if (root.Bokeh !== undefined) {\n      if (el != null) {\n        el.textContent = \"BokehJS \" + root.Bokeh.version + \" successfully loaded.\";\n      }\n    } else if (Date.now() < root._bokeh_timeout) {\n      setTimeout(display_loaded, 100)\n    }\n  }\n\n\n  function run_callbacks() {\n    try {\n      root._bokeh_onload_callbacks.forEach(function(callback) {\n        if (callback != null)\n          callback();\n      });\n    } finally {\n      delete root._bokeh_onload_callbacks\n    }\n    console.debug(\"Bokeh: all callbacks have finished\");\n  }\n\n  function load_libs(css_urls, js_urls, callback) {\n    if (css_urls == null) css_urls = [];\n    if (js_urls == null) js_urls = [];\n\n    root._bokeh_onload_callbacks.push(callback);\n    if (root._bokeh_is_loading > 0) {\n      console.debug(\"Bokeh: BokehJS is being loaded, scheduling callback at\", now());\n      return null;\n    }\n    if (js_urls == null || js_urls.length === 0) {\n      run_callbacks();\n      return null;\n    }\n    console.debug(\"Bokeh: BokehJS not loaded, scheduling load and callback at\", now());\n    root._bokeh_is_loading = css_urls.length + js_urls.length;\n\n    function on_load() {\n      root._bokeh_is_loading--;\n      if (root._bokeh_is_loading === 0) {\n        console.debug(\"Bokeh: all BokehJS libraries/stylesheets loaded\");\n        run_callbacks()\n      }\n    }\n\n    function on_error() {\n      console.error(\"failed to load \" + url);\n    }\n\n    for (var i = 0; i < css_urls.length; i++) {\n      var url = css_urls[i];\n      const element = document.createElement(\"link\");\n      element.onload = on_load;\n      element.onerror = on_error;\n      element.rel = \"stylesheet\";\n      element.type = \"text/css\";\n      element.href = url;\n      console.debug(\"Bokeh: injecting link tag for BokehJS stylesheet: \", url);\n      document.body.appendChild(element);\n    }\n\n    for (var i = 0; i < js_urls.length; i++) {\n      var url = js_urls[i];\n      var element = document.createElement('script');\n      element.onload = on_load;\n      element.onerror = on_error;\n      element.async = false;\n      element.src = url;\n      console.debug(\"Bokeh: injecting script tag for BokehJS library: \", url);\n      document.head.appendChild(element);\n    }\n  };var element = document.getElementById(\"3568\");\n  if (element == null) {\n    console.error(\"Bokeh: ERROR: autoload.js configured with elementid '3568' but no matching script tag was found. \")\n    return false;\n  }\n\n  function inject_raw_css(css) {\n    const element = document.createElement(\"style\");\n    element.appendChild(document.createTextNode(css));\n    document.body.appendChild(element);\n  }\n\n  \n  var js_urls = [\"https://cdn.pydata.org/bokeh/release/bokeh-1.4.0.min.js\", \"https://cdn.pydata.org/bokeh/release/bokeh-widgets-1.4.0.min.js\", \"https://cdn.pydata.org/bokeh/release/bokeh-tables-1.4.0.min.js\", \"https://cdn.pydata.org/bokeh/release/bokeh-gl-1.4.0.min.js\"];\n  var css_urls = [];\n  \n\n  var inline_js = [\n    function(Bokeh) {\n      Bokeh.set_log_level(\"info\");\n    },\n    function(Bokeh) {\n    \n    \n    }\n  ];\n\n  function run_inline_js() {\n    \n    if (root.Bokeh !== undefined || force === true) {\n      \n    for (var i = 0; i < inline_js.length; i++) {\n      inline_js[i].call(root, root.Bokeh);\n    }\n    if (force === true) {\n        display_loaded();\n      }} else if (Date.now() < root._bokeh_timeout) {\n      setTimeout(run_inline_js, 100);\n    } else if (!root._bokeh_failed_load) {\n      console.log(\"Bokeh: BokehJS failed to load within specified timeout.\");\n      root._bokeh_failed_load = true;\n    } else if (force !== true) {\n      var cell = $(document.getElementById(\"3568\")).parents('.cell').data().cell;\n      cell.output_area.append_execute_result(NB_LOAD_WARNING)\n    }\n\n  }\n\n  if (root._bokeh_is_loading === 0) {\n    console.debug(\"Bokeh: BokehJS loaded, going straight to plotting\");\n    run_inline_js();\n  } else {\n    load_libs(css_urls, js_urls, function() {\n      console.debug(\"Bokeh: BokehJS plotting callback run at\", now());\n      run_inline_js();\n    });\n  }\n}(window));"
     },
     "metadata": {},
     "output_type": "display_data"
    }
   ],
   "source": [
    "from bokeh.plotting import output_notebook\n",
    "output_notebook()"
   ]
  },
  {
   "cell_type": "code",
   "execution_count": 39,
   "metadata": {},
   "outputs": [
    {
     "name": "stdout",
     "output_type": "stream",
     "text": [
      "Tengo mas ecuaciones que variables\n"
     ]
    },
    {
     "data": {
      "text/html": [
       "\n",
       "\n",
       "\n",
       "\n",
       "\n",
       "\n",
       "  <div class=\"bk-root\" id=\"52eedc1e-ea1a-434e-8363-6ef3e3222e5a\" data-root-id=\"10888\"></div>\n"
      ]
     },
     "metadata": {},
     "output_type": "display_data"
    },
    {
     "data": {
      "application/javascript": [
       "(function(root) {\n",
       "  function embed_document(root) {\n",
       "    \n",
       "  var docs_json = {\"c33445f8-7ca6-47a7-ae55-88592742ec12\":{\"roots\":{\"references\":[{\"attributes\":{\"below\":[{\"id\":\"10899\",\"type\":\"LinearAxis\"}],\"center\":[{\"id\":\"10903\",\"type\":\"Grid\"},{\"id\":\"10908\",\"type\":\"Grid\"}],\"left\":[{\"id\":\"10904\",\"type\":\"LinearAxis\"}],\"plot_height\":400,\"plot_width\":400,\"renderers\":[{\"id\":\"10925\",\"type\":\"GlyphRenderer\"},{\"id\":\"10930\",\"type\":\"GlyphRenderer\"},{\"id\":\"10935\",\"type\":\"GlyphRenderer\"}],\"title\":{\"id\":\"10889\",\"type\":\"Title\"},\"toolbar\":{\"id\":\"10915\",\"type\":\"Toolbar\"},\"x_range\":{\"id\":\"10891\",\"type\":\"DataRange1d\"},\"x_scale\":{\"id\":\"10895\",\"type\":\"LinearScale\"},\"y_range\":{\"id\":\"10893\",\"type\":\"DataRange1d\"},\"y_scale\":{\"id\":\"10897\",\"type\":\"LinearScale\"}},\"id\":\"10888\",\"subtype\":\"Figure\",\"type\":\"Plot\"},{\"attributes\":{\"source\":{\"id\":\"10932\",\"type\":\"ColumnDataSource\"}},\"id\":\"10936\",\"type\":\"CDSView\"},{\"attributes\":{},\"id\":\"10912\",\"type\":\"SaveTool\"},{\"attributes\":{\"line_alpha\":0.1,\"line_color\":\"#1f77b4\",\"line_width\":2,\"x\":{\"field\":\"x\"},\"y\":{\"field\":\"y\"}},\"id\":\"10934\",\"type\":\"Line\"},{\"attributes\":{\"overlay\":{\"id\":\"11213\",\"type\":\"BoxAnnotation\"}},\"id\":\"10911\",\"type\":\"BoxZoomTool\"},{\"attributes\":{\"dimension\":1,\"ticker\":{\"id\":\"10905\",\"type\":\"BasicTicker\"}},\"id\":\"10908\",\"type\":\"Grid\"},{\"attributes\":{},\"id\":\"11209\",\"type\":\"Selection\"},{\"attributes\":{},\"id\":\"11211\",\"type\":\"Selection\"},{\"attributes\":{\"callback\":null},\"id\":\"10891\",\"type\":\"DataRange1d\"},{\"attributes\":{},\"id\":\"10910\",\"type\":\"WheelZoomTool\"},{\"attributes\":{},\"id\":\"11208\",\"type\":\"UnionRenderers\"},{\"attributes\":{},\"id\":\"10914\",\"type\":\"HelpTool\"},{\"attributes\":{},\"id\":\"11204\",\"type\":\"BasicTickFormatter\"},{\"attributes\":{},\"id\":\"11212\",\"type\":\"UnionRenderers\"},{\"attributes\":{},\"id\":\"10913\",\"type\":\"ResetTool\"},{\"attributes\":{\"active_drag\":\"auto\",\"active_inspect\":\"auto\",\"active_multi\":null,\"active_scroll\":\"auto\",\"active_tap\":\"auto\",\"tools\":[{\"id\":\"10909\",\"type\":\"PanTool\"},{\"id\":\"10910\",\"type\":\"WheelZoomTool\"},{\"id\":\"10911\",\"type\":\"BoxZoomTool\"},{\"id\":\"10912\",\"type\":\"SaveTool\"},{\"id\":\"10913\",\"type\":\"ResetTool\"},{\"id\":\"10914\",\"type\":\"HelpTool\"}]},\"id\":\"10915\",\"type\":\"Toolbar\"},{\"attributes\":{\"bottom_units\":\"screen\",\"fill_alpha\":{\"value\":0.5},\"fill_color\":{\"value\":\"lightgrey\"},\"left_units\":\"screen\",\"level\":\"overlay\",\"line_alpha\":{\"value\":1.0},\"line_color\":{\"value\":\"black\"},\"line_dash\":[4,4],\"line_width\":{\"value\":2},\"render_mode\":\"css\",\"right_units\":\"screen\",\"top_units\":\"screen\"},\"id\":\"11213\",\"type\":\"BoxAnnotation\"},{\"attributes\":{\"formatter\":{\"id\":\"11204\",\"type\":\"BasicTickFormatter\"},\"ticker\":{\"id\":\"10905\",\"type\":\"BasicTicker\"}},\"id\":\"10904\",\"type\":\"LinearAxis\"},{\"attributes\":{\"source\":{\"id\":\"10922\",\"type\":\"ColumnDataSource\"}},\"id\":\"10926\",\"type\":\"CDSView\"},{\"attributes\":{},\"id\":\"10900\",\"type\":\"BasicTicker\"},{\"attributes\":{\"callback\":null,\"data\":{\"x\":{\"__ndarray__\":\"9P////X////2////9/////j////5////+v////v////8/////f////7/////////AAAAAAEAAAACAAAAAwAAAAQAAAAFAAAABgAAAAcAAAAIAAAACQAAAAoAAAALAAAA\",\"dtype\":\"int32\",\"shape\":[24]},\"y\":{\"__ndarray__\":\"AAAAAAAAK8AAAAAAAAApwAAAAAAAACfAAAAAAAAAJcAAAAAAAAAjwAAAAAAAACHAAAAAAAAAHsAAAAAAAAAawAAAAAAAABbAAAAAAAAAEsAAAAAAAAAMwAAAAAAAAATAAAAAAAAA+L8AAAAAAADgvwAAAAAAAOA/AAAAAAAA+D8AAAAAAAAEQAAAAAAAAAxAAAAAAAAAEkAAAAAAAAAWQAAAAAAAABpAAAAAAAAAHkAAAAAAAAAhQAAAAAAAACNA\",\"dtype\":\"float64\",\"shape\":[24]}},\"selected\":{\"id\":\"11207\",\"type\":\"Selection\"},\"selection_policy\":{\"id\":\"11208\",\"type\":\"UnionRenderers\"}},\"id\":\"10922\",\"type\":\"ColumnDataSource\"},{\"attributes\":{\"callback\":null,\"data\":{\"x\":{\"__ndarray__\":\"9P////X////2////9/////j////5////+v////v////8/////f////7/////////AAAAAAEAAAACAAAAAwAAAAQAAAAFAAAABgAAAAcAAAAIAAAACQAAAAoAAAALAAAA\",\"dtype\":\"int32\",\"shape\":[24]},\"y\":{\"__ndarray__\":\"JwAAACQAAAAhAAAAHgAAABsAAAAYAAAAFQAAABIAAAAPAAAADAAAAAkAAAAGAAAAAwAAAAAAAAD9////+v////f////0////8f///+7////r////6P///+X////i////\",\"dtype\":\"int32\",\"shape\":[24]}},\"selected\":{\"id\":\"11211\",\"type\":\"Selection\"},\"selection_policy\":{\"id\":\"11212\",\"type\":\"UnionRenderers\"}},\"id\":\"10932\",\"type\":\"ColumnDataSource\"},{\"attributes\":{\"line_width\":2,\"x\":{\"field\":\"x\"},\"y\":{\"field\":\"y\"}},\"id\":\"10928\",\"type\":\"Line\"},{\"attributes\":{},\"id\":\"11206\",\"type\":\"BasicTickFormatter\"},{\"attributes\":{\"line_alpha\":0.1,\"line_color\":\"#1f77b4\",\"line_width\":2,\"x\":{\"field\":\"x\"},\"y\":{\"field\":\"y\"}},\"id\":\"10929\",\"type\":\"Line\"},{\"attributes\":{\"data_source\":{\"id\":\"10927\",\"type\":\"ColumnDataSource\"},\"glyph\":{\"id\":\"10928\",\"type\":\"Line\"},\"hover_glyph\":null,\"muted_glyph\":null,\"nonselection_glyph\":{\"id\":\"10929\",\"type\":\"Line\"},\"selection_glyph\":null,\"view\":{\"id\":\"10931\",\"type\":\"CDSView\"}},\"id\":\"10930\",\"type\":\"GlyphRenderer\"},{\"attributes\":{\"text\":\"Sistemas de Ecuacion sobredeterminado\"},\"id\":\"10889\",\"type\":\"Title\"},{\"attributes\":{},\"id\":\"10897\",\"type\":\"LinearScale\"},{\"attributes\":{},\"id\":\"10895\",\"type\":\"LinearScale\"},{\"attributes\":{},\"id\":\"11207\",\"type\":\"Selection\"},{\"attributes\":{},\"id\":\"11210\",\"type\":\"UnionRenderers\"},{\"attributes\":{\"callback\":null,\"data\":{\"x\":{\"__ndarray__\":\"9P////X////2////9/////j////5////+v////v////8/////f////7/////////AAAAAAEAAAACAAAAAwAAAAQAAAAFAAAABgAAAAcAAAAIAAAACQAAAAoAAAALAAAA\",\"dtype\":\"int32\",\"shape\":[24]},\"y\":{\"__ndarray__\":\"AAAAAAAAIEAAAAAAAAAeQAAAAAAAABxAAAAAAAAAGkAAAAAAAAAYQAAAAAAAABZAAAAAAAAAFEAAAAAAAAASQAAAAAAAABBAAAAAAAAADEAAAAAAAAAIQAAAAAAAAARAAAAAAAAAAEAAAAAAAAD4PwAAAAAAAPA/AAAAAAAA4D8AAAAAAAAAAAAAAAAAAOC/AAAAAAAA8L8AAAAAAAD4vwAAAAAAAADAAAAAAAAABMAAAAAAAAAIwAAAAAAAAAzA\",\"dtype\":\"float64\",\"shape\":[24]}},\"selected\":{\"id\":\"11209\",\"type\":\"Selection\"},\"selection_policy\":{\"id\":\"11210\",\"type\":\"UnionRenderers\"}},\"id\":\"10927\",\"type\":\"ColumnDataSource\"},{\"attributes\":{\"formatter\":{\"id\":\"11206\",\"type\":\"BasicTickFormatter\"},\"ticker\":{\"id\":\"10900\",\"type\":\"BasicTicker\"}},\"id\":\"10899\",\"type\":\"LinearAxis\"},{\"attributes\":{\"source\":{\"id\":\"10927\",\"type\":\"ColumnDataSource\"}},\"id\":\"10931\",\"type\":\"CDSView\"},{\"attributes\":{\"ticker\":{\"id\":\"10900\",\"type\":\"BasicTicker\"}},\"id\":\"10903\",\"type\":\"Grid\"},{\"attributes\":{\"data_source\":{\"id\":\"10932\",\"type\":\"ColumnDataSource\"},\"glyph\":{\"id\":\"10933\",\"type\":\"Line\"},\"hover_glyph\":null,\"muted_glyph\":null,\"nonselection_glyph\":{\"id\":\"10934\",\"type\":\"Line\"},\"selection_glyph\":null,\"view\":{\"id\":\"10936\",\"type\":\"CDSView\"}},\"id\":\"10935\",\"type\":\"GlyphRenderer\"},{\"attributes\":{},\"id\":\"10909\",\"type\":\"PanTool\"},{\"attributes\":{\"line_color\":\"red\",\"line_width\":2,\"x\":{\"field\":\"x\"},\"y\":{\"field\":\"y\"}},\"id\":\"10933\",\"type\":\"Line\"},{\"attributes\":{\"data_source\":{\"id\":\"10922\",\"type\":\"ColumnDataSource\"},\"glyph\":{\"id\":\"10923\",\"type\":\"Line\"},\"hover_glyph\":null,\"muted_glyph\":null,\"nonselection_glyph\":{\"id\":\"10924\",\"type\":\"Line\"},\"selection_glyph\":null,\"view\":{\"id\":\"10926\",\"type\":\"CDSView\"}},\"id\":\"10925\",\"type\":\"GlyphRenderer\"},{\"attributes\":{\"line_color\":\"blue\",\"line_width\":2,\"x\":{\"field\":\"x\"},\"y\":{\"field\":\"y\"}},\"id\":\"10923\",\"type\":\"Line\"},{\"attributes\":{\"line_alpha\":0.1,\"line_color\":\"#1f77b4\",\"line_width\":2,\"x\":{\"field\":\"x\"},\"y\":{\"field\":\"y\"}},\"id\":\"10924\",\"type\":\"Line\"},{\"attributes\":{\"callback\":null},\"id\":\"10893\",\"type\":\"DataRange1d\"},{\"attributes\":{},\"id\":\"10905\",\"type\":\"BasicTicker\"}],\"root_ids\":[\"10888\"]},\"title\":\"Bokeh Application\",\"version\":\"1.4.0\"}};\n",
       "  var render_items = [{\"docid\":\"c33445f8-7ca6-47a7-ae55-88592742ec12\",\"roots\":{\"10888\":\"52eedc1e-ea1a-434e-8363-6ef3e3222e5a\"}}];\n",
       "  root.Bokeh.embed.embed_items_notebook(docs_json, render_items);\n",
       "\n",
       "  }\n",
       "  if (root.Bokeh !== undefined) {\n",
       "    embed_document(root);\n",
       "  } else {\n",
       "    var attempts = 0;\n",
       "    var timer = setInterval(function(root) {\n",
       "      if (root.Bokeh !== undefined) {\n",
       "        clearInterval(timer);\n",
       "        embed_document(root);\n",
       "      } else {\n",
       "        attempts++;\n",
       "        if (attempts > 100) {\n",
       "          clearInterval(timer);\n",
       "          console.log(\"Bokeh: ERROR: Unable to run BokehJS code because BokehJS library is missing\");\n",
       "        }\n",
       "      }\n",
       "    }, 10, root)\n",
       "  }\n",
       "})(window);"
      ],
      "application/vnd.bokehjs_exec.v0+json": ""
     },
     "metadata": {
      "application/vnd.bokehjs_exec.v0+json": {
       "id": "10888"
      }
     },
     "output_type": "display_data"
    }
   ],
   "source": [
    "import numpy as np\n",
    "from bokeh.plotting import figure, show\n",
    "\n",
    "# definimos el valor de \"x\"\n",
    "x = np.arange(-12,12)\n",
    "\n",
    "# definimos nuestras funciones\n",
    "y_1 = (2*x - 3)/2\n",
    "y_2 = (4-x)/2\n",
    "y_3 = 3 - 3*x \n",
    "\n",
    "\n",
    "p = figure(plot_width=400, plot_height=400, title='Sistemas de Ecuacion sobredeterminado')\n",
    "p.line(x, y_1, line_width=2, color='blue')\n",
    "p.line(x, y_2, line_width=2, color='black')\n",
    "p.line(x, y_3, line_width=2, color='red')\n",
    "print('Tengo mas ecuaciones que variables')\n",
    "show(p)"
   ]
  },
  {
   "cell_type": "code",
   "execution_count": 41,
   "metadata": {},
   "outputs": [
    {
     "name": "stdout",
     "output_type": "stream",
     "text": [
      "Mismo número de ecuaciones e incognitas\n"
     ]
    },
    {
     "data": {
      "text/html": [
       "\n",
       "\n",
       "\n",
       "\n",
       "\n",
       "\n",
       "  <div class=\"bk-root\" id=\"e8caa07a-7c6a-45fb-ae2a-7212bbcee0db\" data-root-id=\"11965\"></div>\n"
      ]
     },
     "metadata": {},
     "output_type": "display_data"
    },
    {
     "data": {
      "application/javascript": [
       "(function(root) {\n",
       "  function embed_document(root) {\n",
       "    \n",
       "  var docs_json = {\"8e446a39-f1c2-4b29-bcd9-12a6f2ddded4\":{\"roots\":{\"references\":[{\"attributes\":{\"below\":[{\"id\":\"11976\",\"type\":\"LinearAxis\"}],\"center\":[{\"id\":\"11980\",\"type\":\"Grid\"},{\"id\":\"11985\",\"type\":\"Grid\"}],\"left\":[{\"id\":\"11981\",\"type\":\"LinearAxis\"}],\"plot_height\":400,\"plot_width\":400,\"renderers\":[{\"id\":\"12002\",\"type\":\"GlyphRenderer\"},{\"id\":\"12007\",\"type\":\"GlyphRenderer\"}],\"title\":{\"id\":\"11966\",\"type\":\"Title\"},\"toolbar\":{\"id\":\"11992\",\"type\":\"Toolbar\"},\"x_range\":{\"id\":\"11968\",\"type\":\"DataRange1d\"},\"x_scale\":{\"id\":\"11972\",\"type\":\"LinearScale\"},\"y_range\":{\"id\":\"11970\",\"type\":\"DataRange1d\"},\"y_scale\":{\"id\":\"11974\",\"type\":\"LinearScale\"}},\"id\":\"11965\",\"subtype\":\"Figure\",\"type\":\"Plot\"},{\"attributes\":{\"active_drag\":\"auto\",\"active_inspect\":\"auto\",\"active_multi\":null,\"active_scroll\":\"auto\",\"active_tap\":\"auto\",\"tools\":[{\"id\":\"11986\",\"type\":\"PanTool\"},{\"id\":\"11987\",\"type\":\"WheelZoomTool\"},{\"id\":\"11988\",\"type\":\"BoxZoomTool\"},{\"id\":\"11989\",\"type\":\"SaveTool\"},{\"id\":\"11990\",\"type\":\"ResetTool\"},{\"id\":\"11991\",\"type\":\"HelpTool\"}]},\"id\":\"11992\",\"type\":\"Toolbar\"},{\"attributes\":{},\"id\":\"11991\",\"type\":\"HelpTool\"},{\"attributes\":{\"line_alpha\":0.1,\"line_color\":\"#1f77b4\",\"line_width\":2,\"x\":{\"field\":\"x\"},\"y\":{\"field\":\"y\"}},\"id\":\"12001\",\"type\":\"Line\"},{\"attributes\":{\"dimension\":1,\"ticker\":{\"id\":\"11982\",\"type\":\"BasicTicker\"}},\"id\":\"11985\",\"type\":\"Grid\"},{\"attributes\":{\"bottom_units\":\"screen\",\"fill_alpha\":{\"value\":0.5},\"fill_color\":{\"value\":\"lightgrey\"},\"left_units\":\"screen\",\"level\":\"overlay\",\"line_alpha\":{\"value\":1.0},\"line_color\":{\"value\":\"black\"},\"line_dash\":[4,4],\"line_width\":{\"value\":2},\"render_mode\":\"css\",\"right_units\":\"screen\",\"top_units\":\"screen\"},\"id\":\"12305\",\"type\":\"BoxAnnotation\"},{\"attributes\":{\"source\":{\"id\":\"11999\",\"type\":\"ColumnDataSource\"}},\"id\":\"12003\",\"type\":\"CDSView\"},{\"attributes\":{\"line_color\":\"blue\",\"line_width\":2,\"x\":{\"field\":\"x\"},\"y\":{\"field\":\"y\"}},\"id\":\"12000\",\"type\":\"Line\"},{\"attributes\":{\"data_source\":{\"id\":\"11999\",\"type\":\"ColumnDataSource\"},\"glyph\":{\"id\":\"12000\",\"type\":\"Line\"},\"hover_glyph\":null,\"muted_glyph\":null,\"nonselection_glyph\":{\"id\":\"12001\",\"type\":\"Line\"},\"selection_glyph\":null,\"view\":{\"id\":\"12003\",\"type\":\"CDSView\"}},\"id\":\"12002\",\"type\":\"GlyphRenderer\"},{\"attributes\":{},\"id\":\"12298\",\"type\":\"BasicTickFormatter\"},{\"attributes\":{\"callback\":null},\"id\":\"11968\",\"type\":\"DataRange1d\"},{\"attributes\":{\"line_width\":2,\"x\":{\"field\":\"x\"},\"y\":{\"field\":\"y\"}},\"id\":\"12005\",\"type\":\"Line\"},{\"attributes\":{},\"id\":\"11972\",\"type\":\"LinearScale\"},{\"attributes\":{\"source\":{\"id\":\"12004\",\"type\":\"ColumnDataSource\"}},\"id\":\"12008\",\"type\":\"CDSView\"},{\"attributes\":{\"callback\":null},\"id\":\"11970\",\"type\":\"DataRange1d\"},{\"attributes\":{\"line_alpha\":0.1,\"line_color\":\"#1f77b4\",\"line_width\":2,\"x\":{\"field\":\"x\"},\"y\":{\"field\":\"y\"}},\"id\":\"12006\",\"type\":\"Line\"},{\"attributes\":{\"data_source\":{\"id\":\"12004\",\"type\":\"ColumnDataSource\"},\"glyph\":{\"id\":\"12005\",\"type\":\"Line\"},\"hover_glyph\":null,\"muted_glyph\":null,\"nonselection_glyph\":{\"id\":\"12006\",\"type\":\"Line\"},\"selection_glyph\":null,\"view\":{\"id\":\"12008\",\"type\":\"CDSView\"}},\"id\":\"12007\",\"type\":\"GlyphRenderer\"},{\"attributes\":{},\"id\":\"11974\",\"type\":\"LinearScale\"},{\"attributes\":{\"formatter\":{\"id\":\"12300\",\"type\":\"BasicTickFormatter\"},\"ticker\":{\"id\":\"11977\",\"type\":\"BasicTicker\"}},\"id\":\"11976\",\"type\":\"LinearAxis\"},{\"attributes\":{\"text\":\"Sistemas de Ecuacion compatible determinado\"},\"id\":\"11966\",\"type\":\"Title\"},{\"attributes\":{},\"id\":\"12301\",\"type\":\"Selection\"},{\"attributes\":{},\"id\":\"12303\",\"type\":\"Selection\"},{\"attributes\":{},\"id\":\"11986\",\"type\":\"PanTool\"},{\"attributes\":{\"callback\":null,\"data\":{\"x\":{\"__ndarray__\":\"9P////X////2////9/////j////5////+v////v////8/////f////7/////////AAAAAAEAAAACAAAAAwAAAAQAAAAFAAAABgAAAAcAAAAIAAAACQAAAAoAAAALAAAA\",\"dtype\":\"int32\",\"shape\":[24]},\"y\":{\"__ndarray__\":\"AAAAAAAAK8AAAAAAAAApwAAAAAAAACfAAAAAAAAAJcAAAAAAAAAjwAAAAAAAACHAAAAAAAAAHsAAAAAAAAAawAAAAAAAABbAAAAAAAAAEsAAAAAAAAAMwAAAAAAAAATAAAAAAAAA+L8AAAAAAADgvwAAAAAAAOA/AAAAAAAA+D8AAAAAAAAEQAAAAAAAAAxAAAAAAAAAEkAAAAAAAAAWQAAAAAAAABpAAAAAAAAAHkAAAAAAAAAhQAAAAAAAACNA\",\"dtype\":\"float64\",\"shape\":[24]}},\"selected\":{\"id\":\"12301\",\"type\":\"Selection\"},\"selection_policy\":{\"id\":\"12302\",\"type\":\"UnionRenderers\"}},\"id\":\"11999\",\"type\":\"ColumnDataSource\"},{\"attributes\":{},\"id\":\"12302\",\"type\":\"UnionRenderers\"},{\"attributes\":{},\"id\":\"11977\",\"type\":\"BasicTicker\"},{\"attributes\":{},\"id\":\"12300\",\"type\":\"BasicTickFormatter\"},{\"attributes\":{\"ticker\":{\"id\":\"11977\",\"type\":\"BasicTicker\"}},\"id\":\"11980\",\"type\":\"Grid\"},{\"attributes\":{},\"id\":\"11987\",\"type\":\"WheelZoomTool\"},{\"attributes\":{},\"id\":\"12304\",\"type\":\"UnionRenderers\"},{\"attributes\":{\"overlay\":{\"id\":\"12305\",\"type\":\"BoxAnnotation\"}},\"id\":\"11988\",\"type\":\"BoxZoomTool\"},{\"attributes\":{\"formatter\":{\"id\":\"12298\",\"type\":\"BasicTickFormatter\"},\"ticker\":{\"id\":\"11982\",\"type\":\"BasicTicker\"}},\"id\":\"11981\",\"type\":\"LinearAxis\"},{\"attributes\":{},\"id\":\"11990\",\"type\":\"ResetTool\"},{\"attributes\":{\"callback\":null,\"data\":{\"x\":{\"__ndarray__\":\"9P////X////2////9/////j////5////+v////v////8/////f////7/////////AAAAAAEAAAACAAAAAwAAAAQAAAAFAAAABgAAAAcAAAAIAAAACQAAAAoAAAALAAAA\",\"dtype\":\"int32\",\"shape\":[24]},\"y\":{\"__ndarray__\":\"AAAAAAAAIEAAAAAAAAAeQAAAAAAAABxAAAAAAAAAGkAAAAAAAAAYQAAAAAAAABZAAAAAAAAAFEAAAAAAAAASQAAAAAAAABBAAAAAAAAADEAAAAAAAAAIQAAAAAAAAARAAAAAAAAAAEAAAAAAAAD4PwAAAAAAAPA/AAAAAAAA4D8AAAAAAAAAAAAAAAAAAOC/AAAAAAAA8L8AAAAAAAD4vwAAAAAAAADAAAAAAAAABMAAAAAAAAAIwAAAAAAAAAzA\",\"dtype\":\"float64\",\"shape\":[24]}},\"selected\":{\"id\":\"12303\",\"type\":\"Selection\"},\"selection_policy\":{\"id\":\"12304\",\"type\":\"UnionRenderers\"}},\"id\":\"12004\",\"type\":\"ColumnDataSource\"},{\"attributes\":{},\"id\":\"11982\",\"type\":\"BasicTicker\"},{\"attributes\":{},\"id\":\"11989\",\"type\":\"SaveTool\"}],\"root_ids\":[\"11965\"]},\"title\":\"Bokeh Application\",\"version\":\"1.4.0\"}};\n",
       "  var render_items = [{\"docid\":\"8e446a39-f1c2-4b29-bcd9-12a6f2ddded4\",\"roots\":{\"11965\":\"e8caa07a-7c6a-45fb-ae2a-7212bbcee0db\"}}];\n",
       "  root.Bokeh.embed.embed_items_notebook(docs_json, render_items);\n",
       "\n",
       "  }\n",
       "  if (root.Bokeh !== undefined) {\n",
       "    embed_document(root);\n",
       "  } else {\n",
       "    var attempts = 0;\n",
       "    var timer = setInterval(function(root) {\n",
       "      if (root.Bokeh !== undefined) {\n",
       "        clearInterval(timer);\n",
       "        embed_document(root);\n",
       "      } else {\n",
       "        attempts++;\n",
       "        if (attempts > 100) {\n",
       "          clearInterval(timer);\n",
       "          console.log(\"Bokeh: ERROR: Unable to run BokehJS code because BokehJS library is missing\");\n",
       "        }\n",
       "      }\n",
       "    }, 10, root)\n",
       "  }\n",
       "})(window);"
      ],
      "application/vnd.bokehjs_exec.v0+json": ""
     },
     "metadata": {
      "application/vnd.bokehjs_exec.v0+json": {
       "id": "11965"
      }
     },
     "output_type": "display_data"
    }
   ],
   "source": [
    "# definimos nuestras funciones\n",
    "y_1 = (2*x - 3)/2\n",
    "y_2 = (4-x)/2\n",
    "\n",
    "p = figure(plot_width=400, plot_height=400, title='Sistemas de Ecuacion compatible determinado')\n",
    "p.line(x, y_1, line_width=2, color='blue')\n",
    "p.line(x, y_2, line_width=2, color='black')\n",
    "print('Mismo número de ecuaciones e incognitas')\n",
    "show(p)"
   ]
  },
  {
   "cell_type": "code",
   "execution_count": 33,
   "metadata": {},
   "outputs": [
    {
     "name": "stdout",
     "output_type": "stream",
     "text": [
      "Mismo numero de variables e incognitas\n"
     ]
    },
    {
     "data": {
      "text/html": [
       "\n",
       "\n",
       "\n",
       "\n",
       "\n",
       "\n",
       "  <div class=\"bk-root\" id=\"8a74d723-d902-4f56-956c-0f615e1a3db4\" data-root-id=\"7933\"></div>\n"
      ]
     },
     "metadata": {},
     "output_type": "display_data"
    },
    {
     "data": {
      "application/javascript": [
       "(function(root) {\n",
       "  function embed_document(root) {\n",
       "    \n",
       "  var docs_json = {\"64a75e38-7c5a-4f00-a057-6ace99b42799\":{\"roots\":{\"references\":[{\"attributes\":{\"below\":[{\"id\":\"7944\",\"type\":\"LinearAxis\"}],\"center\":[{\"id\":\"7948\",\"type\":\"Grid\"},{\"id\":\"7953\",\"type\":\"Grid\"}],\"left\":[{\"id\":\"7949\",\"type\":\"LinearAxis\"}],\"plot_height\":400,\"plot_width\":400,\"renderers\":[{\"id\":\"7970\",\"type\":\"GlyphRenderer\"},{\"id\":\"7975\",\"type\":\"GlyphRenderer\"}],\"title\":{\"id\":\"7934\",\"type\":\"Title\"},\"toolbar\":{\"id\":\"7960\",\"type\":\"Toolbar\"},\"x_range\":{\"id\":\"7936\",\"type\":\"DataRange1d\"},\"x_scale\":{\"id\":\"7940\",\"type\":\"LinearScale\"},\"y_range\":{\"id\":\"7938\",\"type\":\"DataRange1d\"},\"y_scale\":{\"id\":\"7942\",\"type\":\"LinearScale\"}},\"id\":\"7933\",\"subtype\":\"Figure\",\"type\":\"Plot\"},{\"attributes\":{\"line_alpha\":0.1,\"line_color\":\"#1f77b4\",\"line_width\":2,\"x\":{\"field\":\"x\"},\"y\":{\"field\":\"y\"}},\"id\":\"7974\",\"type\":\"Line\"},{\"attributes\":{},\"id\":\"7940\",\"type\":\"LinearScale\"},{\"attributes\":{\"data_source\":{\"id\":\"7972\",\"type\":\"ColumnDataSource\"},\"glyph\":{\"id\":\"7973\",\"type\":\"Line\"},\"hover_glyph\":null,\"muted_glyph\":null,\"nonselection_glyph\":{\"id\":\"7974\",\"type\":\"Line\"},\"selection_glyph\":null,\"view\":{\"id\":\"7976\",\"type\":\"CDSView\"}},\"id\":\"7975\",\"type\":\"GlyphRenderer\"},{\"attributes\":{\"callback\":null,\"data\":{\"x\":{\"__ndarray__\":\"+v////v////8/////f////7/////////AAAAAAEAAAACAAAAAwAAAAQAAAAFAAAA\",\"dtype\":\"int32\",\"shape\":[12]},\"y\":{\"__ndarray__\":\"CAAAAAcAAAAGAAAABQAAAAQAAAADAAAAAgAAAAEAAAAAAAAA//////7////9////\",\"dtype\":\"int32\",\"shape\":[12]}},\"selected\":{\"id\":\"8183\",\"type\":\"Selection\"},\"selection_policy\":{\"id\":\"8184\",\"type\":\"UnionRenderers\"}},\"id\":\"7972\",\"type\":\"ColumnDataSource\"},{\"attributes\":{},\"id\":\"8180\",\"type\":\"BasicTickFormatter\"},{\"attributes\":{\"callback\":null},\"id\":\"7936\",\"type\":\"DataRange1d\"},{\"attributes\":{\"callback\":null},\"id\":\"7938\",\"type\":\"DataRange1d\"},{\"attributes\":{\"source\":{\"id\":\"7972\",\"type\":\"ColumnDataSource\"}},\"id\":\"7976\",\"type\":\"CDSView\"},{\"attributes\":{},\"id\":\"7942\",\"type\":\"LinearScale\"},{\"attributes\":{},\"id\":\"8178\",\"type\":\"BasicTickFormatter\"},{\"attributes\":{},\"id\":\"8182\",\"type\":\"UnionRenderers\"},{\"attributes\":{\"callback\":null,\"data\":{\"x\":{\"__ndarray__\":\"+v////v////8/////f////7/////////AAAAAAEAAAACAAAAAwAAAAQAAAAFAAAA\",\"dtype\":\"int32\",\"shape\":[12]},\"y\":{\"__ndarray__\":\"AAAAAAAAIEAAAAAAAAAcQAAAAAAAABhAAAAAAAAAFEAAAAAAAAAQQAAAAAAAAAhAAAAAAAAAAEAAAAAAAADwPwAAAAAAAAAAAAAAAAAA8L8AAAAAAAAAwAAAAAAAAAjA\",\"dtype\":\"float64\",\"shape\":[12]}},\"selected\":{\"id\":\"8181\",\"type\":\"Selection\"},\"selection_policy\":{\"id\":\"8182\",\"type\":\"UnionRenderers\"}},\"id\":\"7967\",\"type\":\"ColumnDataSource\"},{\"attributes\":{},\"id\":\"8181\",\"type\":\"Selection\"},{\"attributes\":{\"formatter\":{\"id\":\"8178\",\"type\":\"BasicTickFormatter\"},\"ticker\":{\"id\":\"7950\",\"type\":\"BasicTicker\"}},\"id\":\"7949\",\"type\":\"LinearAxis\"},{\"attributes\":{},\"id\":\"8183\",\"type\":\"Selection\"},{\"attributes\":{\"active_drag\":\"auto\",\"active_inspect\":\"auto\",\"active_multi\":null,\"active_scroll\":\"auto\",\"active_tap\":\"auto\",\"tools\":[{\"id\":\"7954\",\"type\":\"PanTool\"},{\"id\":\"7955\",\"type\":\"WheelZoomTool\"},{\"id\":\"7956\",\"type\":\"BoxZoomTool\"},{\"id\":\"7957\",\"type\":\"SaveTool\"},{\"id\":\"7958\",\"type\":\"ResetTool\"},{\"id\":\"7959\",\"type\":\"HelpTool\"}]},\"id\":\"7960\",\"type\":\"Toolbar\"},{\"attributes\":{\"formatter\":{\"id\":\"8180\",\"type\":\"BasicTickFormatter\"},\"ticker\":{\"id\":\"7945\",\"type\":\"BasicTicker\"}},\"id\":\"7944\",\"type\":\"LinearAxis\"},{\"attributes\":{\"bottom_units\":\"screen\",\"fill_alpha\":{\"value\":0.5},\"fill_color\":{\"value\":\"lightgrey\"},\"left_units\":\"screen\",\"level\":\"overlay\",\"line_alpha\":{\"value\":1.0},\"line_color\":{\"value\":\"black\"},\"line_dash\":[4,4],\"line_width\":{\"value\":2},\"render_mode\":\"css\",\"right_units\":\"screen\",\"top_units\":\"screen\"},\"id\":\"8185\",\"type\":\"BoxAnnotation\"},{\"attributes\":{},\"id\":\"7945\",\"type\":\"BasicTicker\"},{\"attributes\":{},\"id\":\"8184\",\"type\":\"UnionRenderers\"},{\"attributes\":{\"line_color\":\"cyan\",\"line_width\":2,\"x\":{\"field\":\"x\"},\"y\":{\"field\":\"y\"}},\"id\":\"7973\",\"type\":\"Line\"},{\"attributes\":{},\"id\":\"7958\",\"type\":\"ResetTool\"},{\"attributes\":{\"source\":{\"id\":\"7967\",\"type\":\"ColumnDataSource\"}},\"id\":\"7971\",\"type\":\"CDSView\"},{\"attributes\":{},\"id\":\"7959\",\"type\":\"HelpTool\"},{\"attributes\":{\"ticker\":{\"id\":\"7945\",\"type\":\"BasicTicker\"}},\"id\":\"7948\",\"type\":\"Grid\"},{\"attributes\":{\"data_source\":{\"id\":\"7967\",\"type\":\"ColumnDataSource\"},\"glyph\":{\"id\":\"7968\",\"type\":\"Line\"},\"hover_glyph\":null,\"muted_glyph\":null,\"nonselection_glyph\":{\"id\":\"7969\",\"type\":\"Line\"},\"selection_glyph\":null,\"view\":{\"id\":\"7971\",\"type\":\"CDSView\"}},\"id\":\"7970\",\"type\":\"GlyphRenderer\"},{\"attributes\":{\"line_color\":\"blue\",\"line_width\":6,\"x\":{\"field\":\"x\"},\"y\":{\"field\":\"y\"}},\"id\":\"7968\",\"type\":\"Line\"},{\"attributes\":{},\"id\":\"7957\",\"type\":\"SaveTool\"},{\"attributes\":{\"line_alpha\":0.1,\"line_color\":\"#1f77b4\",\"line_width\":6,\"x\":{\"field\":\"x\"},\"y\":{\"field\":\"y\"}},\"id\":\"7969\",\"type\":\"Line\"},{\"attributes\":{},\"id\":\"7954\",\"type\":\"PanTool\"},{\"attributes\":{},\"id\":\"7950\",\"type\":\"BasicTicker\"},{\"attributes\":{\"dimension\":1,\"ticker\":{\"id\":\"7950\",\"type\":\"BasicTicker\"}},\"id\":\"7953\",\"type\":\"Grid\"},{\"attributes\":{},\"id\":\"7955\",\"type\":\"WheelZoomTool\"},{\"attributes\":{\"overlay\":{\"id\":\"8185\",\"type\":\"BoxAnnotation\"}},\"id\":\"7956\",\"type\":\"BoxZoomTool\"},{\"attributes\":{\"text\":\"Sistemas de Ecuacion indeterminado\"},\"id\":\"7934\",\"type\":\"Title\"}],\"root_ids\":[\"7933\"]},\"title\":\"Bokeh Application\",\"version\":\"1.4.0\"}};\n",
       "  var render_items = [{\"docid\":\"64a75e38-7c5a-4f00-a057-6ace99b42799\",\"roots\":{\"7933\":\"8a74d723-d902-4f56-956c-0f615e1a3db4\"}}];\n",
       "  root.Bokeh.embed.embed_items_notebook(docs_json, render_items);\n",
       "\n",
       "  }\n",
       "  if (root.Bokeh !== undefined) {\n",
       "    embed_document(root);\n",
       "  } else {\n",
       "    var attempts = 0;\n",
       "    var timer = setInterval(function(root) {\n",
       "      if (root.Bokeh !== undefined) {\n",
       "        clearInterval(timer);\n",
       "        embed_document(root);\n",
       "      } else {\n",
       "        attempts++;\n",
       "        if (attempts > 100) {\n",
       "          clearInterval(timer);\n",
       "          console.log(\"Bokeh: ERROR: Unable to run BokehJS code because BokehJS library is missing\");\n",
       "        }\n",
       "      }\n",
       "    }, 10, root)\n",
       "  }\n",
       "})(window);"
      ],
      "application/vnd.bokehjs_exec.v0+json": ""
     },
     "metadata": {
      "application/vnd.bokehjs_exec.v0+json": {
       "id": "7933"
      }
     },
     "output_type": "display_data"
    }
   ],
   "source": [
    "# definimos nuestras funciones\n",
    "y_1 = (4-2*x)/2\n",
    "y_2 = 2-x \n",
    "\n",
    "p = figure(plot_width=400, plot_height=400, title='Sistemas de Ecuacion compatible indeterminado')\n",
    "p.line(x, y_1, line_width=6, color='blue')\n",
    "p.line(x, y_2, line_width=2, color='cyan')\n",
    "\n",
    "print('Cualquier punto es solucion (infinitas soluciones)')\n",
    "show(p)"
   ]
  },
  {
   "cell_type": "code",
   "execution_count": 42,
   "metadata": {},
   "outputs": [
    {
     "name": "stdout",
     "output_type": "stream",
     "text": [
      "Las rectas nunca se cruzan, osea no existe solución\n"
     ]
    },
    {
     "data": {
      "text/html": [
       "\n",
       "\n",
       "\n",
       "\n",
       "\n",
       "\n",
       "  <div class=\"bk-root\" id=\"15e889ea-c3e9-4377-9b65-028162e766b0\" data-root-id=\"12497\"></div>\n"
      ]
     },
     "metadata": {},
     "output_type": "display_data"
    },
    {
     "data": {
      "application/javascript": [
       "(function(root) {\n",
       "  function embed_document(root) {\n",
       "    \n",
       "  var docs_json = {\"776bdf61-b019-487e-a51f-ade417609558\":{\"roots\":{\"references\":[{\"attributes\":{\"below\":[{\"id\":\"12508\",\"type\":\"LinearAxis\"}],\"center\":[{\"id\":\"12512\",\"type\":\"Grid\"},{\"id\":\"12517\",\"type\":\"Grid\"}],\"left\":[{\"id\":\"12513\",\"type\":\"LinearAxis\"}],\"plot_height\":400,\"plot_width\":400,\"renderers\":[{\"id\":\"12534\",\"type\":\"GlyphRenderer\"},{\"id\":\"12539\",\"type\":\"GlyphRenderer\"}],\"title\":{\"id\":\"12498\",\"type\":\"Title\"},\"toolbar\":{\"id\":\"12524\",\"type\":\"Toolbar\"},\"x_range\":{\"id\":\"12500\",\"type\":\"DataRange1d\"},\"x_scale\":{\"id\":\"12504\",\"type\":\"LinearScale\"},\"y_range\":{\"id\":\"12502\",\"type\":\"DataRange1d\"},\"y_scale\":{\"id\":\"12506\",\"type\":\"LinearScale\"}},\"id\":\"12497\",\"subtype\":\"Figure\",\"type\":\"Plot\"},{\"attributes\":{},\"id\":\"12522\",\"type\":\"ResetTool\"},{\"attributes\":{\"data_source\":{\"id\":\"12531\",\"type\":\"ColumnDataSource\"},\"glyph\":{\"id\":\"12532\",\"type\":\"Line\"},\"hover_glyph\":null,\"muted_glyph\":null,\"nonselection_glyph\":{\"id\":\"12533\",\"type\":\"Line\"},\"selection_glyph\":null,\"view\":{\"id\":\"12535\",\"type\":\"CDSView\"}},\"id\":\"12534\",\"type\":\"GlyphRenderer\"},{\"attributes\":{\"dimension\":1,\"ticker\":{\"id\":\"12514\",\"type\":\"BasicTicker\"}},\"id\":\"12517\",\"type\":\"Grid\"},{\"attributes\":{},\"id\":\"12842\",\"type\":\"BasicTickFormatter\"},{\"attributes\":{\"line_color\":\"cyan\",\"line_width\":2,\"x\":{\"field\":\"x\"},\"y\":{\"field\":\"y\"}},\"id\":\"12537\",\"type\":\"Line\"},{\"attributes\":{\"formatter\":{\"id\":\"12840\",\"type\":\"BasicTickFormatter\"},\"ticker\":{\"id\":\"12514\",\"type\":\"BasicTicker\"}},\"id\":\"12513\",\"type\":\"LinearAxis\"},{\"attributes\":{\"formatter\":{\"id\":\"12842\",\"type\":\"BasicTickFormatter\"},\"ticker\":{\"id\":\"12509\",\"type\":\"BasicTicker\"}},\"id\":\"12508\",\"type\":\"LinearAxis\"},{\"attributes\":{},\"id\":\"12519\",\"type\":\"WheelZoomTool\"},{\"attributes\":{\"line_color\":\"blue\",\"line_width\":2,\"x\":{\"field\":\"x\"},\"y\":{\"field\":\"y\"}},\"id\":\"12532\",\"type\":\"Line\"},{\"attributes\":{\"source\":{\"id\":\"12531\",\"type\":\"ColumnDataSource\"}},\"id\":\"12535\",\"type\":\"CDSView\"},{\"attributes\":{\"line_alpha\":0.1,\"line_color\":\"#1f77b4\",\"line_width\":2,\"x\":{\"field\":\"x\"},\"y\":{\"field\":\"y\"}},\"id\":\"12533\",\"type\":\"Line\"},{\"attributes\":{},\"id\":\"12518\",\"type\":\"PanTool\"},{\"attributes\":{\"line_alpha\":0.1,\"line_color\":\"#1f77b4\",\"line_width\":2,\"x\":{\"field\":\"x\"},\"y\":{\"field\":\"y\"}},\"id\":\"12538\",\"type\":\"Line\"},{\"attributes\":{\"ticker\":{\"id\":\"12509\",\"type\":\"BasicTicker\"}},\"id\":\"12512\",\"type\":\"Grid\"},{\"attributes\":{\"data_source\":{\"id\":\"12536\",\"type\":\"ColumnDataSource\"},\"glyph\":{\"id\":\"12537\",\"type\":\"Line\"},\"hover_glyph\":null,\"muted_glyph\":null,\"nonselection_glyph\":{\"id\":\"12538\",\"type\":\"Line\"},\"selection_glyph\":null,\"view\":{\"id\":\"12540\",\"type\":\"CDSView\"}},\"id\":\"12539\",\"type\":\"GlyphRenderer\"},{\"attributes\":{\"source\":{\"id\":\"12536\",\"type\":\"ColumnDataSource\"}},\"id\":\"12540\",\"type\":\"CDSView\"},{\"attributes\":{\"callback\":null,\"data\":{\"x\":{\"__ndarray__\":\"9P////X////2////9/////j////5////+v////v////8/////f////7/////////AAAAAAEAAAACAAAAAwAAAAQAAAAFAAAABgAAAAcAAAAIAAAACQAAAAoAAAALAAAA\",\"dtype\":\"int32\",\"shape\":[24]},\"y\":{\"__ndarray__\":\"DgAAAA0AAAAMAAAACwAAAAoAAAAJAAAACAAAAAcAAAAGAAAABQAAAAQAAAADAAAAAgAAAAEAAAAAAAAA//////7////9/////P////v////6////+f////j////3////\",\"dtype\":\"int32\",\"shape\":[24]}},\"selected\":{\"id\":\"12843\",\"type\":\"Selection\"},\"selection_policy\":{\"id\":\"12844\",\"type\":\"UnionRenderers\"}},\"id\":\"12531\",\"type\":\"ColumnDataSource\"},{\"attributes\":{},\"id\":\"12514\",\"type\":\"BasicTicker\"},{\"attributes\":{},\"id\":\"12840\",\"type\":\"BasicTickFormatter\"},{\"attributes\":{},\"id\":\"12521\",\"type\":\"SaveTool\"},{\"attributes\":{},\"id\":\"12844\",\"type\":\"UnionRenderers\"},{\"attributes\":{},\"id\":\"12843\",\"type\":\"Selection\"},{\"attributes\":{\"overlay\":{\"id\":\"12847\",\"type\":\"BoxAnnotation\"}},\"id\":\"12520\",\"type\":\"BoxZoomTool\"},{\"attributes\":{},\"id\":\"12846\",\"type\":\"UnionRenderers\"},{\"attributes\":{\"text\":\"Sistemas de Ecuacion incompatible\"},\"id\":\"12498\",\"type\":\"Title\"},{\"attributes\":{},\"id\":\"12845\",\"type\":\"Selection\"},{\"attributes\":{\"callback\":null,\"data\":{\"x\":{\"__ndarray__\":\"9P////X////2////9/////j////5////+v////v////8/////f////7/////////AAAAAAEAAAACAAAAAwAAAAQAAAAFAAAABgAAAAcAAAAIAAAACQAAAAoAAAALAAAA\",\"dtype\":\"int32\",\"shape\":[24]},\"y\":{\"__ndarray__\":\"DAAAAAsAAAAKAAAACQAAAAgAAAAHAAAABgAAAAUAAAAEAAAAAwAAAAIAAAABAAAAAAAAAP/////+/////f////z////7////+v////n////4////9/////b////1////\",\"dtype\":\"int32\",\"shape\":[24]}},\"selected\":{\"id\":\"12845\",\"type\":\"Selection\"},\"selection_policy\":{\"id\":\"12846\",\"type\":\"UnionRenderers\"}},\"id\":\"12536\",\"type\":\"ColumnDataSource\"},{\"attributes\":{},\"id\":\"12506\",\"type\":\"LinearScale\"},{\"attributes\":{\"callback\":null},\"id\":\"12502\",\"type\":\"DataRange1d\"},{\"attributes\":{},\"id\":\"12509\",\"type\":\"BasicTicker\"},{\"attributes\":{\"bottom_units\":\"screen\",\"fill_alpha\":{\"value\":0.5},\"fill_color\":{\"value\":\"lightgrey\"},\"left_units\":\"screen\",\"level\":\"overlay\",\"line_alpha\":{\"value\":1.0},\"line_color\":{\"value\":\"black\"},\"line_dash\":[4,4],\"line_width\":{\"value\":2},\"render_mode\":\"css\",\"right_units\":\"screen\",\"top_units\":\"screen\"},\"id\":\"12847\",\"type\":\"BoxAnnotation\"},{\"attributes\":{\"callback\":null},\"id\":\"12500\",\"type\":\"DataRange1d\"},{\"attributes\":{\"active_drag\":\"auto\",\"active_inspect\":\"auto\",\"active_multi\":null,\"active_scroll\":\"auto\",\"active_tap\":\"auto\",\"tools\":[{\"id\":\"12518\",\"type\":\"PanTool\"},{\"id\":\"12519\",\"type\":\"WheelZoomTool\"},{\"id\":\"12520\",\"type\":\"BoxZoomTool\"},{\"id\":\"12521\",\"type\":\"SaveTool\"},{\"id\":\"12522\",\"type\":\"ResetTool\"},{\"id\":\"12523\",\"type\":\"HelpTool\"}]},\"id\":\"12524\",\"type\":\"Toolbar\"},{\"attributes\":{},\"id\":\"12504\",\"type\":\"LinearScale\"},{\"attributes\":{},\"id\":\"12523\",\"type\":\"HelpTool\"}],\"root_ids\":[\"12497\"]},\"title\":\"Bokeh Application\",\"version\":\"1.4.0\"}};\n",
       "  var render_items = [{\"docid\":\"776bdf61-b019-487e-a51f-ade417609558\",\"roots\":{\"12497\":\"15e889ea-c3e9-4377-9b65-028162e766b0\"}}];\n",
       "  root.Bokeh.embed.embed_items_notebook(docs_json, render_items);\n",
       "\n",
       "  }\n",
       "  if (root.Bokeh !== undefined) {\n",
       "    embed_document(root);\n",
       "  } else {\n",
       "    var attempts = 0;\n",
       "    var timer = setInterval(function(root) {\n",
       "      if (root.Bokeh !== undefined) {\n",
       "        clearInterval(timer);\n",
       "        embed_document(root);\n",
       "      } else {\n",
       "        attempts++;\n",
       "        if (attempts > 100) {\n",
       "          clearInterval(timer);\n",
       "          console.log(\"Bokeh: ERROR: Unable to run BokehJS code because BokehJS library is missing\");\n",
       "        }\n",
       "      }\n",
       "    }, 10, root)\n",
       "  }\n",
       "})(window);"
      ],
      "application/vnd.bokehjs_exec.v0+json": ""
     },
     "metadata": {
      "application/vnd.bokehjs_exec.v0+json": {
       "id": "12497"
      }
     },
     "output_type": "display_data"
    }
   ],
   "source": [
    "# definimos nuestras funciones\n",
    "y_1 = 2-x\n",
    "y_2 = -x\n",
    "\n",
    "p = figure(plot_width=400, plot_height=400, title='Sistemas de Ecuacion incompatible')\n",
    "p.line(x, y_1, line_width=2, color='blue')\n",
    "p.line(x, y_2, line_width=2, color='cyan')\n",
    "print('Las rectas nunca se cruzan, osea no existe solución')\n",
    "show(p)"
   ]
  },
  {
   "cell_type": "code",
   "execution_count": null,
   "metadata": {},
   "outputs": [],
   "source": []
  }
 ],
 "metadata": {
  "kernelspec": {
   "display_name": "Python 3",
   "language": "python",
   "name": "python3"
  },
  "language_info": {
   "codemirror_mode": {
    "name": "ipython",
    "version": 3
   },
   "file_extension": ".py",
   "mimetype": "text/x-python",
   "name": "python",
   "nbconvert_exporter": "python",
   "pygments_lexer": "ipython3",
   "version": "3.7.3"
  }
 },
 "nbformat": 4,
 "nbformat_minor": 4
}
